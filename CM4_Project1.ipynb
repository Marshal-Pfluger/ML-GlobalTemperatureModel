{
  "cells": [
    {
      "cell_type": "markdown",
      "metadata": {
        "id": "HVQGTkSa-Jux"
      },
      "source": [
        "# CM4_Project4 by Marshal Pfluger\n",
        "### Dr. Sajjad Mohsin"
      ]
    },
    {
      "cell_type": "markdown",
      "metadata": {
        "id": "NwGrLNKW-Ksy"
      },
      "source": [
        "#### I started off by running the necessary commands to load the dataset from kaggle. I commented these out so that it will not run again every time I restart the kernel and run again. I only needed to get the API token from my account at kaggle and upload it here as a json file. I ended up stopping using this method as with google colab it deletes all of the files when you disconnect and I kept having issues accessing the dataset. I opted to download the file to my machine and upload it from there each time. To upload the file to use in collab, I have attatched the file for this notebook. On the left side of the window there is the runtime file system. click on the file system icon to see the full file system. Then right click the \"contect\" folder and select upload. select the dataset and that will allow the notebook to run the dataset"
      ]
    },
    {
      "cell_type": "code",
      "execution_count": 1,
      "metadata": {
        "id": "cpFwc6Kx82kC"
      },
      "outputs": [],
      "source": [
        "# dont use this ! pip install kaggle"
      ]
    },
    {
      "cell_type": "code",
      "execution_count": 2,
      "metadata": {
        "id": "qY1mrOZM9mOI"
      },
      "outputs": [],
      "source": [
        "# dont use this ! mkdir ~/.kaggle"
      ]
    },
    {
      "cell_type": "code",
      "execution_count": 3,
      "metadata": {
        "id": "yu-kOXjK9rVt"
      },
      "outputs": [],
      "source": [
        "# dont use this ! cp kaggle.json ~/.kaggle"
      ]
    },
    {
      "cell_type": "code",
      "execution_count": 4,
      "metadata": {
        "id": "sHDTSSZp9tvV"
      },
      "outputs": [],
      "source": [
        "# dont use this !chmod 600 ~/.kaggle/kaggle.json"
      ]
    },
    {
      "cell_type": "code",
      "execution_count": 5,
      "metadata": {
        "id": "8Xt99BAN9v9Q"
      },
      "outputs": [],
      "source": [
        "# dont use this ! kaggle datasets download berkeleyearth/climate-change-earth-surface-temperature-data"
      ]
    },
    {
      "cell_type": "code",
      "execution_count": 6,
      "metadata": {
        "id": "7jq9aCEr-B_7"
      },
      "outputs": [],
      "source": [
        "# dont use this ! unzip climate-change-earth-surface-temperature-data"
      ]
    },
    {
      "cell_type": "markdown",
      "metadata": {
        "id": "tcBi8_9I-Od0"
      },
      "source": [
        "### Here is where the project actually starts."
      ]
    },
    {
      "cell_type": "code",
      "execution_count": 7,
      "metadata": {
        "id": "OFSu7JPy-Fny"
      },
      "outputs": [],
      "source": [
        "# Here we will import the needed libraries for this projecy\n",
        "import sys\n",
        "assert sys.version_info >= (3, 7)\n",
        "\n",
        "from packaging import version\n",
        "import tensorflow as tf\n",
        "assert version.parse(tf.__version__) >= version.parse(\"2.8.0\")\n",
        "\n",
        "import matplotlib.pyplot as plt\n",
        "\n",
        "plt.rc('font', size = 14)\n",
        "plt.rc('axes', labelsize=14, titlesize=14)\n",
        "plt.rc('legend', fontsize=14)\n",
        "plt.rc('xtick', labelsize=10)\n",
        "plt.rc('ytick', labelsize=10)\n",
        "# We need keras\n",
        "import keras\n",
        "\n",
        "import numpy as np\n",
        "\n",
        "import pandas as pd\n",
        "\n",
        "# set seed for reproducible resuts\n",
        "tf.random.set_seed(12)"
      ]
    },
    {
      "cell_type": "markdown",
      "metadata": {
        "id": "c_AxAh6LVZQs"
      },
      "source": [
        "#### Here we will load the dataset from our colab file system"
      ]
    },
    {
      "cell_type": "code",
      "execution_count": 8,
      "metadata": {
        "colab": {
          "base_uri": "https://localhost:8080/",
          "height": 206
        },
        "id": "AIJZo8jr-V1u",
        "outputId": "ef9d8c45-008e-435d-8ca6-32321727d047"
      },
      "outputs": [
        {
          "output_type": "execute_result",
          "data": {
            "text/plain": [
              "             dt  LandAverageTemperature  LandAverageTemperatureUncertainty  \\\n",
              "3187 2015-08-01                  14.755                              0.072   \n",
              "3188 2015-09-01                  12.999                              0.079   \n",
              "3189 2015-10-01                  10.801                              0.102   \n",
              "3190 2015-11-01                   7.433                              0.119   \n",
              "3191 2015-12-01                   5.518                              0.100   \n",
              "\n",
              "      LandMaxTemperature  LandMaxTemperatureUncertainty  LandMinTemperature  \\\n",
              "3187              20.699                          0.110               9.005   \n",
              "3188              18.845                          0.088               7.199   \n",
              "3189              16.450                          0.059               5.232   \n",
              "3190              12.892                          0.093               2.157   \n",
              "3191              10.725                          0.154               0.287   \n",
              "\n",
              "      LandMinTemperatureUncertainty  LandAndOceanAverageTemperature  \\\n",
              "3187                          0.170                          17.589   \n",
              "3188                          0.229                          17.049   \n",
              "3189                          0.115                          16.290   \n",
              "3190                          0.106                          15.252   \n",
              "3191                          0.099                          14.774   \n",
              "\n",
              "      LandAndOceanAverageTemperatureUncertainty  \n",
              "3187                                      0.057  \n",
              "3188                                      0.058  \n",
              "3189                                      0.062  \n",
              "3190                                      0.063  \n",
              "3191                                      0.062  "
            ],
            "text/html": [
              "\n",
              "  <div id=\"df-fe4bfb6e-b22f-464d-b036-8484c4726ca0\" class=\"colab-df-container\">\n",
              "    <div>\n",
              "<style scoped>\n",
              "    .dataframe tbody tr th:only-of-type {\n",
              "        vertical-align: middle;\n",
              "    }\n",
              "\n",
              "    .dataframe tbody tr th {\n",
              "        vertical-align: top;\n",
              "    }\n",
              "\n",
              "    .dataframe thead th {\n",
              "        text-align: right;\n",
              "    }\n",
              "</style>\n",
              "<table border=\"1\" class=\"dataframe\">\n",
              "  <thead>\n",
              "    <tr style=\"text-align: right;\">\n",
              "      <th></th>\n",
              "      <th>dt</th>\n",
              "      <th>LandAverageTemperature</th>\n",
              "      <th>LandAverageTemperatureUncertainty</th>\n",
              "      <th>LandMaxTemperature</th>\n",
              "      <th>LandMaxTemperatureUncertainty</th>\n",
              "      <th>LandMinTemperature</th>\n",
              "      <th>LandMinTemperatureUncertainty</th>\n",
              "      <th>LandAndOceanAverageTemperature</th>\n",
              "      <th>LandAndOceanAverageTemperatureUncertainty</th>\n",
              "    </tr>\n",
              "  </thead>\n",
              "  <tbody>\n",
              "    <tr>\n",
              "      <th>3187</th>\n",
              "      <td>2015-08-01</td>\n",
              "      <td>14.755</td>\n",
              "      <td>0.072</td>\n",
              "      <td>20.699</td>\n",
              "      <td>0.110</td>\n",
              "      <td>9.005</td>\n",
              "      <td>0.170</td>\n",
              "      <td>17.589</td>\n",
              "      <td>0.057</td>\n",
              "    </tr>\n",
              "    <tr>\n",
              "      <th>3188</th>\n",
              "      <td>2015-09-01</td>\n",
              "      <td>12.999</td>\n",
              "      <td>0.079</td>\n",
              "      <td>18.845</td>\n",
              "      <td>0.088</td>\n",
              "      <td>7.199</td>\n",
              "      <td>0.229</td>\n",
              "      <td>17.049</td>\n",
              "      <td>0.058</td>\n",
              "    </tr>\n",
              "    <tr>\n",
              "      <th>3189</th>\n",
              "      <td>2015-10-01</td>\n",
              "      <td>10.801</td>\n",
              "      <td>0.102</td>\n",
              "      <td>16.450</td>\n",
              "      <td>0.059</td>\n",
              "      <td>5.232</td>\n",
              "      <td>0.115</td>\n",
              "      <td>16.290</td>\n",
              "      <td>0.062</td>\n",
              "    </tr>\n",
              "    <tr>\n",
              "      <th>3190</th>\n",
              "      <td>2015-11-01</td>\n",
              "      <td>7.433</td>\n",
              "      <td>0.119</td>\n",
              "      <td>12.892</td>\n",
              "      <td>0.093</td>\n",
              "      <td>2.157</td>\n",
              "      <td>0.106</td>\n",
              "      <td>15.252</td>\n",
              "      <td>0.063</td>\n",
              "    </tr>\n",
              "    <tr>\n",
              "      <th>3191</th>\n",
              "      <td>2015-12-01</td>\n",
              "      <td>5.518</td>\n",
              "      <td>0.100</td>\n",
              "      <td>10.725</td>\n",
              "      <td>0.154</td>\n",
              "      <td>0.287</td>\n",
              "      <td>0.099</td>\n",
              "      <td>14.774</td>\n",
              "      <td>0.062</td>\n",
              "    </tr>\n",
              "  </tbody>\n",
              "</table>\n",
              "</div>\n",
              "    <div class=\"colab-df-buttons\">\n",
              "\n",
              "  <div class=\"colab-df-container\">\n",
              "    <button class=\"colab-df-convert\" onclick=\"convertToInteractive('df-fe4bfb6e-b22f-464d-b036-8484c4726ca0')\"\n",
              "            title=\"Convert this dataframe to an interactive table.\"\n",
              "            style=\"display:none;\">\n",
              "\n",
              "  <svg xmlns=\"http://www.w3.org/2000/svg\" height=\"24px\" viewBox=\"0 -960 960 960\">\n",
              "    <path d=\"M120-120v-720h720v720H120Zm60-500h600v-160H180v160Zm220 220h160v-160H400v160Zm0 220h160v-160H400v160ZM180-400h160v-160H180v160Zm440 0h160v-160H620v160ZM180-180h160v-160H180v160Zm440 0h160v-160H620v160Z\"/>\n",
              "  </svg>\n",
              "    </button>\n",
              "\n",
              "  <style>\n",
              "    .colab-df-container {\n",
              "      display:flex;\n",
              "      gap: 12px;\n",
              "    }\n",
              "\n",
              "    .colab-df-convert {\n",
              "      background-color: #E8F0FE;\n",
              "      border: none;\n",
              "      border-radius: 50%;\n",
              "      cursor: pointer;\n",
              "      display: none;\n",
              "      fill: #1967D2;\n",
              "      height: 32px;\n",
              "      padding: 0 0 0 0;\n",
              "      width: 32px;\n",
              "    }\n",
              "\n",
              "    .colab-df-convert:hover {\n",
              "      background-color: #E2EBFA;\n",
              "      box-shadow: 0px 1px 2px rgba(60, 64, 67, 0.3), 0px 1px 3px 1px rgba(60, 64, 67, 0.15);\n",
              "      fill: #174EA6;\n",
              "    }\n",
              "\n",
              "    .colab-df-buttons div {\n",
              "      margin-bottom: 4px;\n",
              "    }\n",
              "\n",
              "    [theme=dark] .colab-df-convert {\n",
              "      background-color: #3B4455;\n",
              "      fill: #D2E3FC;\n",
              "    }\n",
              "\n",
              "    [theme=dark] .colab-df-convert:hover {\n",
              "      background-color: #434B5C;\n",
              "      box-shadow: 0px 1px 3px 1px rgba(0, 0, 0, 0.15);\n",
              "      filter: drop-shadow(0px 1px 2px rgba(0, 0, 0, 0.3));\n",
              "      fill: #FFFFFF;\n",
              "    }\n",
              "  </style>\n",
              "\n",
              "    <script>\n",
              "      const buttonEl =\n",
              "        document.querySelector('#df-fe4bfb6e-b22f-464d-b036-8484c4726ca0 button.colab-df-convert');\n",
              "      buttonEl.style.display =\n",
              "        google.colab.kernel.accessAllowed ? 'block' : 'none';\n",
              "\n",
              "      async function convertToInteractive(key) {\n",
              "        const element = document.querySelector('#df-fe4bfb6e-b22f-464d-b036-8484c4726ca0');\n",
              "        const dataTable =\n",
              "          await google.colab.kernel.invokeFunction('convertToInteractive',\n",
              "                                                    [key], {});\n",
              "        if (!dataTable) return;\n",
              "\n",
              "        const docLinkHtml = 'Like what you see? Visit the ' +\n",
              "          '<a target=\"_blank\" href=https://colab.research.google.com/notebooks/data_table.ipynb>data table notebook</a>'\n",
              "          + ' to learn more about interactive tables.';\n",
              "        element.innerHTML = '';\n",
              "        dataTable['output_type'] = 'display_data';\n",
              "        await google.colab.output.renderOutput(dataTable, element);\n",
              "        const docLink = document.createElement('div');\n",
              "        docLink.innerHTML = docLinkHtml;\n",
              "        element.appendChild(docLink);\n",
              "      }\n",
              "    </script>\n",
              "  </div>\n",
              "\n",
              "\n",
              "<div id=\"df-2ae66778-a8f6-47c3-8685-f06c00b78f23\">\n",
              "  <button class=\"colab-df-quickchart\" onclick=\"quickchart('df-2ae66778-a8f6-47c3-8685-f06c00b78f23')\"\n",
              "            title=\"Suggest charts.\"\n",
              "            style=\"display:none;\">\n",
              "\n",
              "<svg xmlns=\"http://www.w3.org/2000/svg\" height=\"24px\"viewBox=\"0 0 24 24\"\n",
              "     width=\"24px\">\n",
              "    <g>\n",
              "        <path d=\"M19 3H5c-1.1 0-2 .9-2 2v14c0 1.1.9 2 2 2h14c1.1 0 2-.9 2-2V5c0-1.1-.9-2-2-2zM9 17H7v-7h2v7zm4 0h-2V7h2v10zm4 0h-2v-4h2v4z\"/>\n",
              "    </g>\n",
              "</svg>\n",
              "  </button>\n",
              "\n",
              "<style>\n",
              "  .colab-df-quickchart {\n",
              "      --bg-color: #E8F0FE;\n",
              "      --fill-color: #1967D2;\n",
              "      --hover-bg-color: #E2EBFA;\n",
              "      --hover-fill-color: #174EA6;\n",
              "      --disabled-fill-color: #AAA;\n",
              "      --disabled-bg-color: #DDD;\n",
              "  }\n",
              "\n",
              "  [theme=dark] .colab-df-quickchart {\n",
              "      --bg-color: #3B4455;\n",
              "      --fill-color: #D2E3FC;\n",
              "      --hover-bg-color: #434B5C;\n",
              "      --hover-fill-color: #FFFFFF;\n",
              "      --disabled-bg-color: #3B4455;\n",
              "      --disabled-fill-color: #666;\n",
              "  }\n",
              "\n",
              "  .colab-df-quickchart {\n",
              "    background-color: var(--bg-color);\n",
              "    border: none;\n",
              "    border-radius: 50%;\n",
              "    cursor: pointer;\n",
              "    display: none;\n",
              "    fill: var(--fill-color);\n",
              "    height: 32px;\n",
              "    padding: 0;\n",
              "    width: 32px;\n",
              "  }\n",
              "\n",
              "  .colab-df-quickchart:hover {\n",
              "    background-color: var(--hover-bg-color);\n",
              "    box-shadow: 0 1px 2px rgba(60, 64, 67, 0.3), 0 1px 3px 1px rgba(60, 64, 67, 0.15);\n",
              "    fill: var(--button-hover-fill-color);\n",
              "  }\n",
              "\n",
              "  .colab-df-quickchart-complete:disabled,\n",
              "  .colab-df-quickchart-complete:disabled:hover {\n",
              "    background-color: var(--disabled-bg-color);\n",
              "    fill: var(--disabled-fill-color);\n",
              "    box-shadow: none;\n",
              "  }\n",
              "\n",
              "  .colab-df-spinner {\n",
              "    border: 2px solid var(--fill-color);\n",
              "    border-color: transparent;\n",
              "    border-bottom-color: var(--fill-color);\n",
              "    animation:\n",
              "      spin 1s steps(1) infinite;\n",
              "  }\n",
              "\n",
              "  @keyframes spin {\n",
              "    0% {\n",
              "      border-color: transparent;\n",
              "      border-bottom-color: var(--fill-color);\n",
              "      border-left-color: var(--fill-color);\n",
              "    }\n",
              "    20% {\n",
              "      border-color: transparent;\n",
              "      border-left-color: var(--fill-color);\n",
              "      border-top-color: var(--fill-color);\n",
              "    }\n",
              "    30% {\n",
              "      border-color: transparent;\n",
              "      border-left-color: var(--fill-color);\n",
              "      border-top-color: var(--fill-color);\n",
              "      border-right-color: var(--fill-color);\n",
              "    }\n",
              "    40% {\n",
              "      border-color: transparent;\n",
              "      border-right-color: var(--fill-color);\n",
              "      border-top-color: var(--fill-color);\n",
              "    }\n",
              "    60% {\n",
              "      border-color: transparent;\n",
              "      border-right-color: var(--fill-color);\n",
              "    }\n",
              "    80% {\n",
              "      border-color: transparent;\n",
              "      border-right-color: var(--fill-color);\n",
              "      border-bottom-color: var(--fill-color);\n",
              "    }\n",
              "    90% {\n",
              "      border-color: transparent;\n",
              "      border-bottom-color: var(--fill-color);\n",
              "    }\n",
              "  }\n",
              "</style>\n",
              "\n",
              "  <script>\n",
              "    async function quickchart(key) {\n",
              "      const quickchartButtonEl =\n",
              "        document.querySelector('#' + key + ' button');\n",
              "      quickchartButtonEl.disabled = true;  // To prevent multiple clicks.\n",
              "      quickchartButtonEl.classList.add('colab-df-spinner');\n",
              "      try {\n",
              "        const charts = await google.colab.kernel.invokeFunction(\n",
              "            'suggestCharts', [key], {});\n",
              "      } catch (error) {\n",
              "        console.error('Error during call to suggestCharts:', error);\n",
              "      }\n",
              "      quickchartButtonEl.classList.remove('colab-df-spinner');\n",
              "      quickchartButtonEl.classList.add('colab-df-quickchart-complete');\n",
              "    }\n",
              "    (() => {\n",
              "      let quickchartButtonEl =\n",
              "        document.querySelector('#df-2ae66778-a8f6-47c3-8685-f06c00b78f23 button');\n",
              "      quickchartButtonEl.style.display =\n",
              "        google.colab.kernel.accessAllowed ? 'block' : 'none';\n",
              "    })();\n",
              "  </script>\n",
              "</div>\n",
              "    </div>\n",
              "  </div>\n"
            ]
          },
          "metadata": {},
          "execution_count": 8
        }
      ],
      "source": [
        "dataset = pd.read_csv('/content/GlobalTemperatures.csv', parse_dates=['dt'])\n",
        "dataset.tail()"
      ]
    },
    {
      "cell_type": "markdown",
      "metadata": {
        "id": "Uh9h5dKmVgrn"
      },
      "source": [
        "#### Most of the columns contain null values so we will remove them. this will leave us with the columns with non null data entries. I played around a lot with what data I wanted to keep and run my model with. I first used the landaveragetemperature and landaveragetemperatureuncertainty. I dont think the uncertainty helped the model at all. I then chose to look at the landaverageTemperature only. I then tried to create a new datset with the average annual temperature for each year instead to try to predict the next annual temperatures. To do this I used panda functions to manipulate and calulate the averages for each year."
      ]
    },
    {
      "cell_type": "code",
      "execution_count": 9,
      "metadata": {
        "colab": {
          "base_uri": "https://localhost:8080/"
        },
        "id": "5XIvGvDWFBuy",
        "outputId": "0577e798-947d-42e8-8dd9-89dd1540a717"
      },
      "outputs": [
        {
          "output_type": "execute_result",
          "data": {
            "text/plain": [
              "DatetimeIndex(['1750-01-01', '1750-02-01', '1750-03-01', '1750-04-01',\n",
              "               '1750-05-01', '1750-06-01', '1750-07-01', '1750-08-01',\n",
              "               '1750-09-01', '1750-10-01',\n",
              "               ...\n",
              "               '2015-03-01', '2015-04-01', '2015-05-01', '2015-06-01',\n",
              "               '2015-07-01', '2015-08-01', '2015-09-01', '2015-10-01',\n",
              "               '2015-11-01', '2015-12-01'],\n",
              "              dtype='datetime64[ns]', name='dt', length=3180, freq=None)"
            ]
          },
          "metadata": {},
          "execution_count": 9
        }
      ],
      "source": [
        "# Make a copy of the original dataset\n",
        "datasetCopy = dataset.copy()\n",
        "# Remove the colums we are not going to use\n",
        "datasetCopy.drop(datasetCopy.columns[2:], axis=1, inplace=True)\n",
        "# Remove the columns that are all null values\n",
        "datasetCopy.dropna(inplace=True)\n",
        "# Make the date column the index and sort by this value\n",
        "datasetCopy = datasetCopy.set_index(\"dt\")\n",
        "# Parse the dt date column\n",
        "pd.to_datetime(datasetCopy.index)"
      ]
    },
    {
      "cell_type": "code",
      "source": [
        "# Display the first few values of the processed dataset\n",
        "datasetCopy.head(11)"
      ],
      "metadata": {
        "colab": {
          "base_uri": "https://localhost:8080/",
          "height": 426
        },
        "id": "DMWp41S961Rb",
        "outputId": "f43f0cca-f953-4f0a-e1d6-8a39954ccd47"
      },
      "execution_count": 10,
      "outputs": [
        {
          "output_type": "execute_result",
          "data": {
            "text/plain": [
              "            LandAverageTemperature\n",
              "dt                                \n",
              "1750-01-01                   3.034\n",
              "1750-02-01                   3.083\n",
              "1750-03-01                   5.626\n",
              "1750-04-01                   8.490\n",
              "1750-05-01                  11.573\n",
              "1750-06-01                  12.937\n",
              "1750-07-01                  15.868\n",
              "1750-08-01                  14.750\n",
              "1750-09-01                  11.413\n",
              "1750-10-01                   6.367\n",
              "1750-12-01                   2.772"
            ],
            "text/html": [
              "\n",
              "  <div id=\"df-4b5e3d27-1f25-4ca2-b9ad-ec5163d0d0a5\" class=\"colab-df-container\">\n",
              "    <div>\n",
              "<style scoped>\n",
              "    .dataframe tbody tr th:only-of-type {\n",
              "        vertical-align: middle;\n",
              "    }\n",
              "\n",
              "    .dataframe tbody tr th {\n",
              "        vertical-align: top;\n",
              "    }\n",
              "\n",
              "    .dataframe thead th {\n",
              "        text-align: right;\n",
              "    }\n",
              "</style>\n",
              "<table border=\"1\" class=\"dataframe\">\n",
              "  <thead>\n",
              "    <tr style=\"text-align: right;\">\n",
              "      <th></th>\n",
              "      <th>LandAverageTemperature</th>\n",
              "    </tr>\n",
              "    <tr>\n",
              "      <th>dt</th>\n",
              "      <th></th>\n",
              "    </tr>\n",
              "  </thead>\n",
              "  <tbody>\n",
              "    <tr>\n",
              "      <th>1750-01-01</th>\n",
              "      <td>3.034</td>\n",
              "    </tr>\n",
              "    <tr>\n",
              "      <th>1750-02-01</th>\n",
              "      <td>3.083</td>\n",
              "    </tr>\n",
              "    <tr>\n",
              "      <th>1750-03-01</th>\n",
              "      <td>5.626</td>\n",
              "    </tr>\n",
              "    <tr>\n",
              "      <th>1750-04-01</th>\n",
              "      <td>8.490</td>\n",
              "    </tr>\n",
              "    <tr>\n",
              "      <th>1750-05-01</th>\n",
              "      <td>11.573</td>\n",
              "    </tr>\n",
              "    <tr>\n",
              "      <th>1750-06-01</th>\n",
              "      <td>12.937</td>\n",
              "    </tr>\n",
              "    <tr>\n",
              "      <th>1750-07-01</th>\n",
              "      <td>15.868</td>\n",
              "    </tr>\n",
              "    <tr>\n",
              "      <th>1750-08-01</th>\n",
              "      <td>14.750</td>\n",
              "    </tr>\n",
              "    <tr>\n",
              "      <th>1750-09-01</th>\n",
              "      <td>11.413</td>\n",
              "    </tr>\n",
              "    <tr>\n",
              "      <th>1750-10-01</th>\n",
              "      <td>6.367</td>\n",
              "    </tr>\n",
              "    <tr>\n",
              "      <th>1750-12-01</th>\n",
              "      <td>2.772</td>\n",
              "    </tr>\n",
              "  </tbody>\n",
              "</table>\n",
              "</div>\n",
              "    <div class=\"colab-df-buttons\">\n",
              "\n",
              "  <div class=\"colab-df-container\">\n",
              "    <button class=\"colab-df-convert\" onclick=\"convertToInteractive('df-4b5e3d27-1f25-4ca2-b9ad-ec5163d0d0a5')\"\n",
              "            title=\"Convert this dataframe to an interactive table.\"\n",
              "            style=\"display:none;\">\n",
              "\n",
              "  <svg xmlns=\"http://www.w3.org/2000/svg\" height=\"24px\" viewBox=\"0 -960 960 960\">\n",
              "    <path d=\"M120-120v-720h720v720H120Zm60-500h600v-160H180v160Zm220 220h160v-160H400v160Zm0 220h160v-160H400v160ZM180-400h160v-160H180v160Zm440 0h160v-160H620v160ZM180-180h160v-160H180v160Zm440 0h160v-160H620v160Z\"/>\n",
              "  </svg>\n",
              "    </button>\n",
              "\n",
              "  <style>\n",
              "    .colab-df-container {\n",
              "      display:flex;\n",
              "      gap: 12px;\n",
              "    }\n",
              "\n",
              "    .colab-df-convert {\n",
              "      background-color: #E8F0FE;\n",
              "      border: none;\n",
              "      border-radius: 50%;\n",
              "      cursor: pointer;\n",
              "      display: none;\n",
              "      fill: #1967D2;\n",
              "      height: 32px;\n",
              "      padding: 0 0 0 0;\n",
              "      width: 32px;\n",
              "    }\n",
              "\n",
              "    .colab-df-convert:hover {\n",
              "      background-color: #E2EBFA;\n",
              "      box-shadow: 0px 1px 2px rgba(60, 64, 67, 0.3), 0px 1px 3px 1px rgba(60, 64, 67, 0.15);\n",
              "      fill: #174EA6;\n",
              "    }\n",
              "\n",
              "    .colab-df-buttons div {\n",
              "      margin-bottom: 4px;\n",
              "    }\n",
              "\n",
              "    [theme=dark] .colab-df-convert {\n",
              "      background-color: #3B4455;\n",
              "      fill: #D2E3FC;\n",
              "    }\n",
              "\n",
              "    [theme=dark] .colab-df-convert:hover {\n",
              "      background-color: #434B5C;\n",
              "      box-shadow: 0px 1px 3px 1px rgba(0, 0, 0, 0.15);\n",
              "      filter: drop-shadow(0px 1px 2px rgba(0, 0, 0, 0.3));\n",
              "      fill: #FFFFFF;\n",
              "    }\n",
              "  </style>\n",
              "\n",
              "    <script>\n",
              "      const buttonEl =\n",
              "        document.querySelector('#df-4b5e3d27-1f25-4ca2-b9ad-ec5163d0d0a5 button.colab-df-convert');\n",
              "      buttonEl.style.display =\n",
              "        google.colab.kernel.accessAllowed ? 'block' : 'none';\n",
              "\n",
              "      async function convertToInteractive(key) {\n",
              "        const element = document.querySelector('#df-4b5e3d27-1f25-4ca2-b9ad-ec5163d0d0a5');\n",
              "        const dataTable =\n",
              "          await google.colab.kernel.invokeFunction('convertToInteractive',\n",
              "                                                    [key], {});\n",
              "        if (!dataTable) return;\n",
              "\n",
              "        const docLinkHtml = 'Like what you see? Visit the ' +\n",
              "          '<a target=\"_blank\" href=https://colab.research.google.com/notebooks/data_table.ipynb>data table notebook</a>'\n",
              "          + ' to learn more about interactive tables.';\n",
              "        element.innerHTML = '';\n",
              "        dataTable['output_type'] = 'display_data';\n",
              "        await google.colab.output.renderOutput(dataTable, element);\n",
              "        const docLink = document.createElement('div');\n",
              "        docLink.innerHTML = docLinkHtml;\n",
              "        element.appendChild(docLink);\n",
              "      }\n",
              "    </script>\n",
              "  </div>\n",
              "\n",
              "\n",
              "<div id=\"df-6b31fa84-ef62-4f5f-b999-4aef82e6a3ce\">\n",
              "  <button class=\"colab-df-quickchart\" onclick=\"quickchart('df-6b31fa84-ef62-4f5f-b999-4aef82e6a3ce')\"\n",
              "            title=\"Suggest charts.\"\n",
              "            style=\"display:none;\">\n",
              "\n",
              "<svg xmlns=\"http://www.w3.org/2000/svg\" height=\"24px\"viewBox=\"0 0 24 24\"\n",
              "     width=\"24px\">\n",
              "    <g>\n",
              "        <path d=\"M19 3H5c-1.1 0-2 .9-2 2v14c0 1.1.9 2 2 2h14c1.1 0 2-.9 2-2V5c0-1.1-.9-2-2-2zM9 17H7v-7h2v7zm4 0h-2V7h2v10zm4 0h-2v-4h2v4z\"/>\n",
              "    </g>\n",
              "</svg>\n",
              "  </button>\n",
              "\n",
              "<style>\n",
              "  .colab-df-quickchart {\n",
              "      --bg-color: #E8F0FE;\n",
              "      --fill-color: #1967D2;\n",
              "      --hover-bg-color: #E2EBFA;\n",
              "      --hover-fill-color: #174EA6;\n",
              "      --disabled-fill-color: #AAA;\n",
              "      --disabled-bg-color: #DDD;\n",
              "  }\n",
              "\n",
              "  [theme=dark] .colab-df-quickchart {\n",
              "      --bg-color: #3B4455;\n",
              "      --fill-color: #D2E3FC;\n",
              "      --hover-bg-color: #434B5C;\n",
              "      --hover-fill-color: #FFFFFF;\n",
              "      --disabled-bg-color: #3B4455;\n",
              "      --disabled-fill-color: #666;\n",
              "  }\n",
              "\n",
              "  .colab-df-quickchart {\n",
              "    background-color: var(--bg-color);\n",
              "    border: none;\n",
              "    border-radius: 50%;\n",
              "    cursor: pointer;\n",
              "    display: none;\n",
              "    fill: var(--fill-color);\n",
              "    height: 32px;\n",
              "    padding: 0;\n",
              "    width: 32px;\n",
              "  }\n",
              "\n",
              "  .colab-df-quickchart:hover {\n",
              "    background-color: var(--hover-bg-color);\n",
              "    box-shadow: 0 1px 2px rgba(60, 64, 67, 0.3), 0 1px 3px 1px rgba(60, 64, 67, 0.15);\n",
              "    fill: var(--button-hover-fill-color);\n",
              "  }\n",
              "\n",
              "  .colab-df-quickchart-complete:disabled,\n",
              "  .colab-df-quickchart-complete:disabled:hover {\n",
              "    background-color: var(--disabled-bg-color);\n",
              "    fill: var(--disabled-fill-color);\n",
              "    box-shadow: none;\n",
              "  }\n",
              "\n",
              "  .colab-df-spinner {\n",
              "    border: 2px solid var(--fill-color);\n",
              "    border-color: transparent;\n",
              "    border-bottom-color: var(--fill-color);\n",
              "    animation:\n",
              "      spin 1s steps(1) infinite;\n",
              "  }\n",
              "\n",
              "  @keyframes spin {\n",
              "    0% {\n",
              "      border-color: transparent;\n",
              "      border-bottom-color: var(--fill-color);\n",
              "      border-left-color: var(--fill-color);\n",
              "    }\n",
              "    20% {\n",
              "      border-color: transparent;\n",
              "      border-left-color: var(--fill-color);\n",
              "      border-top-color: var(--fill-color);\n",
              "    }\n",
              "    30% {\n",
              "      border-color: transparent;\n",
              "      border-left-color: var(--fill-color);\n",
              "      border-top-color: var(--fill-color);\n",
              "      border-right-color: var(--fill-color);\n",
              "    }\n",
              "    40% {\n",
              "      border-color: transparent;\n",
              "      border-right-color: var(--fill-color);\n",
              "      border-top-color: var(--fill-color);\n",
              "    }\n",
              "    60% {\n",
              "      border-color: transparent;\n",
              "      border-right-color: var(--fill-color);\n",
              "    }\n",
              "    80% {\n",
              "      border-color: transparent;\n",
              "      border-right-color: var(--fill-color);\n",
              "      border-bottom-color: var(--fill-color);\n",
              "    }\n",
              "    90% {\n",
              "      border-color: transparent;\n",
              "      border-bottom-color: var(--fill-color);\n",
              "    }\n",
              "  }\n",
              "</style>\n",
              "\n",
              "  <script>\n",
              "    async function quickchart(key) {\n",
              "      const quickchartButtonEl =\n",
              "        document.querySelector('#' + key + ' button');\n",
              "      quickchartButtonEl.disabled = true;  // To prevent multiple clicks.\n",
              "      quickchartButtonEl.classList.add('colab-df-spinner');\n",
              "      try {\n",
              "        const charts = await google.colab.kernel.invokeFunction(\n",
              "            'suggestCharts', [key], {});\n",
              "      } catch (error) {\n",
              "        console.error('Error during call to suggestCharts:', error);\n",
              "      }\n",
              "      quickchartButtonEl.classList.remove('colab-df-spinner');\n",
              "      quickchartButtonEl.classList.add('colab-df-quickchart-complete');\n",
              "    }\n",
              "    (() => {\n",
              "      let quickchartButtonEl =\n",
              "        document.querySelector('#df-6b31fa84-ef62-4f5f-b999-4aef82e6a3ce button');\n",
              "      quickchartButtonEl.style.display =\n",
              "        google.colab.kernel.accessAllowed ? 'block' : 'none';\n",
              "    })();\n",
              "  </script>\n",
              "</div>\n",
              "    </div>\n",
              "  </div>\n"
            ]
          },
          "metadata": {},
          "execution_count": 10
        }
      ]
    },
    {
      "cell_type": "code",
      "source": [
        "# Check to make sure there are no null values in the dataset\n",
        "datasetCopy.isnull().sum()"
      ],
      "metadata": {
        "colab": {
          "base_uri": "https://localhost:8080/"
        },
        "id": "lDO4r5wB66Ac",
        "outputId": "5710e150-d61e-4210-f97d-fe12b7cb8147"
      },
      "execution_count": 11,
      "outputs": [
        {
          "output_type": "execute_result",
          "data": {
            "text/plain": [
              "LandAverageTemperature    0\n",
              "dtype: int64"
            ]
          },
          "metadata": {},
          "execution_count": 11
        }
      ]
    },
    {
      "cell_type": "code",
      "source": [
        "# I also want to make a dataset with only the average of each year.\n",
        "annual_averages = datasetCopy.resample('Y').mean()\n",
        "annual_datset = pd.DataFrame(annual_averages, columns=datasetCopy.columns)\n",
        "annual_datset.tail()"
      ],
      "metadata": {
        "colab": {
          "base_uri": "https://localhost:8080/",
          "height": 238
        },
        "id": "UqidJhuy7BOz",
        "outputId": "08d0e148-03f7-43ba-a33a-6601d5d85027"
      },
      "execution_count": 12,
      "outputs": [
        {
          "output_type": "execute_result",
          "data": {
            "text/plain": [
              "            LandAverageTemperature\n",
              "dt                                \n",
              "2011-12-31                9.516000\n",
              "2012-12-31                9.507333\n",
              "2013-12-31                9.606500\n",
              "2014-12-31                9.570667\n",
              "2015-12-31                9.831000"
            ],
            "text/html": [
              "\n",
              "  <div id=\"df-3d4a2d08-5b13-46ef-bfe7-0bc447099313\" class=\"colab-df-container\">\n",
              "    <div>\n",
              "<style scoped>\n",
              "    .dataframe tbody tr th:only-of-type {\n",
              "        vertical-align: middle;\n",
              "    }\n",
              "\n",
              "    .dataframe tbody tr th {\n",
              "        vertical-align: top;\n",
              "    }\n",
              "\n",
              "    .dataframe thead th {\n",
              "        text-align: right;\n",
              "    }\n",
              "</style>\n",
              "<table border=\"1\" class=\"dataframe\">\n",
              "  <thead>\n",
              "    <tr style=\"text-align: right;\">\n",
              "      <th></th>\n",
              "      <th>LandAverageTemperature</th>\n",
              "    </tr>\n",
              "    <tr>\n",
              "      <th>dt</th>\n",
              "      <th></th>\n",
              "    </tr>\n",
              "  </thead>\n",
              "  <tbody>\n",
              "    <tr>\n",
              "      <th>2011-12-31</th>\n",
              "      <td>9.516000</td>\n",
              "    </tr>\n",
              "    <tr>\n",
              "      <th>2012-12-31</th>\n",
              "      <td>9.507333</td>\n",
              "    </tr>\n",
              "    <tr>\n",
              "      <th>2013-12-31</th>\n",
              "      <td>9.606500</td>\n",
              "    </tr>\n",
              "    <tr>\n",
              "      <th>2014-12-31</th>\n",
              "      <td>9.570667</td>\n",
              "    </tr>\n",
              "    <tr>\n",
              "      <th>2015-12-31</th>\n",
              "      <td>9.831000</td>\n",
              "    </tr>\n",
              "  </tbody>\n",
              "</table>\n",
              "</div>\n",
              "    <div class=\"colab-df-buttons\">\n",
              "\n",
              "  <div class=\"colab-df-container\">\n",
              "    <button class=\"colab-df-convert\" onclick=\"convertToInteractive('df-3d4a2d08-5b13-46ef-bfe7-0bc447099313')\"\n",
              "            title=\"Convert this dataframe to an interactive table.\"\n",
              "            style=\"display:none;\">\n",
              "\n",
              "  <svg xmlns=\"http://www.w3.org/2000/svg\" height=\"24px\" viewBox=\"0 -960 960 960\">\n",
              "    <path d=\"M120-120v-720h720v720H120Zm60-500h600v-160H180v160Zm220 220h160v-160H400v160Zm0 220h160v-160H400v160ZM180-400h160v-160H180v160Zm440 0h160v-160H620v160ZM180-180h160v-160H180v160Zm440 0h160v-160H620v160Z\"/>\n",
              "  </svg>\n",
              "    </button>\n",
              "\n",
              "  <style>\n",
              "    .colab-df-container {\n",
              "      display:flex;\n",
              "      gap: 12px;\n",
              "    }\n",
              "\n",
              "    .colab-df-convert {\n",
              "      background-color: #E8F0FE;\n",
              "      border: none;\n",
              "      border-radius: 50%;\n",
              "      cursor: pointer;\n",
              "      display: none;\n",
              "      fill: #1967D2;\n",
              "      height: 32px;\n",
              "      padding: 0 0 0 0;\n",
              "      width: 32px;\n",
              "    }\n",
              "\n",
              "    .colab-df-convert:hover {\n",
              "      background-color: #E2EBFA;\n",
              "      box-shadow: 0px 1px 2px rgba(60, 64, 67, 0.3), 0px 1px 3px 1px rgba(60, 64, 67, 0.15);\n",
              "      fill: #174EA6;\n",
              "    }\n",
              "\n",
              "    .colab-df-buttons div {\n",
              "      margin-bottom: 4px;\n",
              "    }\n",
              "\n",
              "    [theme=dark] .colab-df-convert {\n",
              "      background-color: #3B4455;\n",
              "      fill: #D2E3FC;\n",
              "    }\n",
              "\n",
              "    [theme=dark] .colab-df-convert:hover {\n",
              "      background-color: #434B5C;\n",
              "      box-shadow: 0px 1px 3px 1px rgba(0, 0, 0, 0.15);\n",
              "      filter: drop-shadow(0px 1px 2px rgba(0, 0, 0, 0.3));\n",
              "      fill: #FFFFFF;\n",
              "    }\n",
              "  </style>\n",
              "\n",
              "    <script>\n",
              "      const buttonEl =\n",
              "        document.querySelector('#df-3d4a2d08-5b13-46ef-bfe7-0bc447099313 button.colab-df-convert');\n",
              "      buttonEl.style.display =\n",
              "        google.colab.kernel.accessAllowed ? 'block' : 'none';\n",
              "\n",
              "      async function convertToInteractive(key) {\n",
              "        const element = document.querySelector('#df-3d4a2d08-5b13-46ef-bfe7-0bc447099313');\n",
              "        const dataTable =\n",
              "          await google.colab.kernel.invokeFunction('convertToInteractive',\n",
              "                                                    [key], {});\n",
              "        if (!dataTable) return;\n",
              "\n",
              "        const docLinkHtml = 'Like what you see? Visit the ' +\n",
              "          '<a target=\"_blank\" href=https://colab.research.google.com/notebooks/data_table.ipynb>data table notebook</a>'\n",
              "          + ' to learn more about interactive tables.';\n",
              "        element.innerHTML = '';\n",
              "        dataTable['output_type'] = 'display_data';\n",
              "        await google.colab.output.renderOutput(dataTable, element);\n",
              "        const docLink = document.createElement('div');\n",
              "        docLink.innerHTML = docLinkHtml;\n",
              "        element.appendChild(docLink);\n",
              "      }\n",
              "    </script>\n",
              "  </div>\n",
              "\n",
              "\n",
              "<div id=\"df-84a25182-f37f-437f-a05c-7ec12724e62a\">\n",
              "  <button class=\"colab-df-quickchart\" onclick=\"quickchart('df-84a25182-f37f-437f-a05c-7ec12724e62a')\"\n",
              "            title=\"Suggest charts.\"\n",
              "            style=\"display:none;\">\n",
              "\n",
              "<svg xmlns=\"http://www.w3.org/2000/svg\" height=\"24px\"viewBox=\"0 0 24 24\"\n",
              "     width=\"24px\">\n",
              "    <g>\n",
              "        <path d=\"M19 3H5c-1.1 0-2 .9-2 2v14c0 1.1.9 2 2 2h14c1.1 0 2-.9 2-2V5c0-1.1-.9-2-2-2zM9 17H7v-7h2v7zm4 0h-2V7h2v10zm4 0h-2v-4h2v4z\"/>\n",
              "    </g>\n",
              "</svg>\n",
              "  </button>\n",
              "\n",
              "<style>\n",
              "  .colab-df-quickchart {\n",
              "      --bg-color: #E8F0FE;\n",
              "      --fill-color: #1967D2;\n",
              "      --hover-bg-color: #E2EBFA;\n",
              "      --hover-fill-color: #174EA6;\n",
              "      --disabled-fill-color: #AAA;\n",
              "      --disabled-bg-color: #DDD;\n",
              "  }\n",
              "\n",
              "  [theme=dark] .colab-df-quickchart {\n",
              "      --bg-color: #3B4455;\n",
              "      --fill-color: #D2E3FC;\n",
              "      --hover-bg-color: #434B5C;\n",
              "      --hover-fill-color: #FFFFFF;\n",
              "      --disabled-bg-color: #3B4455;\n",
              "      --disabled-fill-color: #666;\n",
              "  }\n",
              "\n",
              "  .colab-df-quickchart {\n",
              "    background-color: var(--bg-color);\n",
              "    border: none;\n",
              "    border-radius: 50%;\n",
              "    cursor: pointer;\n",
              "    display: none;\n",
              "    fill: var(--fill-color);\n",
              "    height: 32px;\n",
              "    padding: 0;\n",
              "    width: 32px;\n",
              "  }\n",
              "\n",
              "  .colab-df-quickchart:hover {\n",
              "    background-color: var(--hover-bg-color);\n",
              "    box-shadow: 0 1px 2px rgba(60, 64, 67, 0.3), 0 1px 3px 1px rgba(60, 64, 67, 0.15);\n",
              "    fill: var(--button-hover-fill-color);\n",
              "  }\n",
              "\n",
              "  .colab-df-quickchart-complete:disabled,\n",
              "  .colab-df-quickchart-complete:disabled:hover {\n",
              "    background-color: var(--disabled-bg-color);\n",
              "    fill: var(--disabled-fill-color);\n",
              "    box-shadow: none;\n",
              "  }\n",
              "\n",
              "  .colab-df-spinner {\n",
              "    border: 2px solid var(--fill-color);\n",
              "    border-color: transparent;\n",
              "    border-bottom-color: var(--fill-color);\n",
              "    animation:\n",
              "      spin 1s steps(1) infinite;\n",
              "  }\n",
              "\n",
              "  @keyframes spin {\n",
              "    0% {\n",
              "      border-color: transparent;\n",
              "      border-bottom-color: var(--fill-color);\n",
              "      border-left-color: var(--fill-color);\n",
              "    }\n",
              "    20% {\n",
              "      border-color: transparent;\n",
              "      border-left-color: var(--fill-color);\n",
              "      border-top-color: var(--fill-color);\n",
              "    }\n",
              "    30% {\n",
              "      border-color: transparent;\n",
              "      border-left-color: var(--fill-color);\n",
              "      border-top-color: var(--fill-color);\n",
              "      border-right-color: var(--fill-color);\n",
              "    }\n",
              "    40% {\n",
              "      border-color: transparent;\n",
              "      border-right-color: var(--fill-color);\n",
              "      border-top-color: var(--fill-color);\n",
              "    }\n",
              "    60% {\n",
              "      border-color: transparent;\n",
              "      border-right-color: var(--fill-color);\n",
              "    }\n",
              "    80% {\n",
              "      border-color: transparent;\n",
              "      border-right-color: var(--fill-color);\n",
              "      border-bottom-color: var(--fill-color);\n",
              "    }\n",
              "    90% {\n",
              "      border-color: transparent;\n",
              "      border-bottom-color: var(--fill-color);\n",
              "    }\n",
              "  }\n",
              "</style>\n",
              "\n",
              "  <script>\n",
              "    async function quickchart(key) {\n",
              "      const quickchartButtonEl =\n",
              "        document.querySelector('#' + key + ' button');\n",
              "      quickchartButtonEl.disabled = true;  // To prevent multiple clicks.\n",
              "      quickchartButtonEl.classList.add('colab-df-spinner');\n",
              "      try {\n",
              "        const charts = await google.colab.kernel.invokeFunction(\n",
              "            'suggestCharts', [key], {});\n",
              "      } catch (error) {\n",
              "        console.error('Error during call to suggestCharts:', error);\n",
              "      }\n",
              "      quickchartButtonEl.classList.remove('colab-df-spinner');\n",
              "      quickchartButtonEl.classList.add('colab-df-quickchart-complete');\n",
              "    }\n",
              "    (() => {\n",
              "      let quickchartButtonEl =\n",
              "        document.querySelector('#df-84a25182-f37f-437f-a05c-7ec12724e62a button');\n",
              "      quickchartButtonEl.style.display =\n",
              "        google.colab.kernel.accessAllowed ? 'block' : 'none';\n",
              "    })();\n",
              "  </script>\n",
              "</div>\n",
              "    </div>\n",
              "  </div>\n"
            ]
          },
          "metadata": {},
          "execution_count": 12
        }
      ]
    },
    {
      "cell_type": "code",
      "execution_count": 13,
      "metadata": {
        "colab": {
          "base_uri": "https://localhost:8080/",
          "height": 416
        },
        "id": "_6cLjsPQfPyj",
        "outputId": "088a14f9-5963-4c1e-f599-70537ec1507b"
      },
      "outputs": [
        {
          "output_type": "display_data",
          "data": {
            "text/plain": [
              "<Figure size 800x400 with 1 Axes>"
            ],
            "image/png": "[encoded data removed]"
          },
          "metadata": {}
        }
      ],
      "source": [
        "# annuatized dataset plot\n",
        "from matplotlib import pyplot as plt\n",
        "annual_datset['LandAverageTemperature'].plot(kind='line', figsize=(8, 4), title='LandAverageTemperature')\n",
        "plt.gca().spines[['top', 'right']].set_visible(False)"
      ]
    },
    {
      "cell_type": "markdown",
      "metadata": {
        "id": "uTolSr-Qfzbj"
      },
      "source": [
        "#### After seeing the annuatized land average temperature, I feel like this will offer more meaningful predictions"
      ]
    },
    {
      "cell_type": "code",
      "execution_count": 14,
      "metadata": {
        "colab": {
          "base_uri": "https://localhost:8080/",
          "height": 396
        },
        "id": "J1zWpQx1sj8t",
        "outputId": "ba787e98-ee12-491b-e640-1d114a72bbc2"
      },
      "outputs": [
        {
          "output_type": "display_data",
          "data": {
            "text/plain": [
              "<Figure size 800x400 with 1 Axes>"
            ],
            "image/png": "[encoded data removed]"
          },
          "metadata": {}
        }
      ],
      "source": [
        "# non annuatized dataset plot\n",
        "from matplotlib import pyplot as plt\n",
        "datasetCopy['LandAverageTemperature'].plot(kind='line', figsize=(8, 4), title='LandAverageTemperature')\n",
        "plt.gca().spines[['top', 'right']].set_visible(False)"
      ]
    },
    {
      "cell_type": "code",
      "execution_count": 15,
      "metadata": {
        "colab": {
          "base_uri": "https://localhost:8080/",
          "height": 354
        },
        "id": "6Dy9W0FIMJve",
        "outputId": "c9e1e1d1-8ac9-49fb-8297-50adc9c61703"
      },
      "outputs": [
        {
          "output_type": "display_data",
          "data": {
            "text/plain": [
              "<Figure size 800x350 with 1 Axes>"
            ],
            "image/png": "[encoded data removed]"
          },
          "metadata": {}
        }
      ],
      "source": [
        "# We will visualize some of the data\n",
        "datasetCopy[\"1950-01\":\"1980-12\"].plot(grid=True, marker=\".\", figsize=(8, 3.5))\n",
        "plt.show()"
      ]
    },
    {
      "cell_type": "code",
      "execution_count": 16,
      "metadata": {
        "colab": {
          "base_uri": "https://localhost:8080/",
          "height": 393
        },
        "id": "li6HX5nlVPt8",
        "outputId": "22a576c3-59e6-43c5-a469-106b08ea0ba4"
      },
      "outputs": [
        {
          "output_type": "display_data",
          "data": {
            "text/plain": [
              "<Figure size 800x400 with 1 Axes>"
            ],
            "image/png": "[encoded data removed]"
          },
          "metadata": {}
        }
      ],
      "source": [
        "period = slice(\"1800\", \"2015\")\n",
        "df_monthly = annual_datset.resample('Y').mean()  # compute the mean for each month\n",
        "rolling_average_12_months = df_monthly[period].rolling(window=12).mean()\n",
        "\n",
        "fig, ax = plt.subplots(figsize=(8, 4))\n",
        "df_monthly[period].plot(ax=ax, marker=\".\")\n",
        "rolling_average_12_months.plot(ax=ax, grid=True, legend=False)\n",
        "plt.show()"
      ]
    },
    {
      "cell_type": "markdown",
      "metadata": {
        "id": "usnzwGUYYXWw"
      },
      "source": [
        "#### As we have seen from the plot, the land average temperature has been trending up and is rising faster towards the end. The uncertainty is also lowering because more accurate reporting took place as time went on."
      ]
    },
    {
      "cell_type": "code",
      "execution_count": 17,
      "metadata": {
        "id": "tZMMRGynJclQ"
      },
      "outputs": [],
      "source": [
        "# we will get the modules to use the ARIMA model\n",
        "if \"google.colab\" in sys.modules:\n",
        "    %pip install -q -U statsmodels"
      ]
    },
    {
      "cell_type": "code",
      "execution_count": 18,
      "metadata": {
        "id": "YoVcPBJ-Y36L"
      },
      "outputs": [],
      "source": [
        "from statsmodels.tsa.arima.model import ARIMA\n",
        "# We will check the ARIMA to forcast the for the date we select\n",
        "origin, today = \"1750-02-01\", \"2015-05-01\"\n",
        "temp_series = datasetCopy.loc[origin:today][\"LandAverageTemperature\"].asfreq(\"MS\")\n",
        "model = ARIMA(temp_series,\n",
        "              order=(1, 0, 0))\n",
        "model = model.fit()\n",
        "y_pred = model.forecast()"
      ]
    },
    {
      "cell_type": "code",
      "execution_count": 19,
      "metadata": {
        "colab": {
          "base_uri": "https://localhost:8080/"
        },
        "id": "S0qxKVz0bNst",
        "outputId": "32e4a0f0-f30f-4d3f-ec9b-0740044b1705"
      },
      "outputs": [
        {
          "output_type": "execute_result",
          "data": {
            "text/plain": [
              "11.714442799733792"
            ]
          },
          "metadata": {},
          "execution_count": 19
        }
      ],
      "source": [
        "y_pred[0]  # ARIMA forecast"
      ]
    },
    {
      "cell_type": "markdown",
      "source": [
        "#### As we can see the ARIMA gave us a very accuate forcast of 2015-05-01"
      ],
      "metadata": {
        "id": "hDfttvOtxsdh"
      }
    },
    {
      "cell_type": "markdown",
      "metadata": {
        "id": "1S2bRJpVevBm"
      },
      "source": [
        "### Now we will buld Deep RNN models to see how accurate we can get"
      ]
    },
    {
      "cell_type": "code",
      "execution_count": 20,
      "metadata": {
        "id": "56O2Q7bZTNYb"
      },
      "outputs": [],
      "source": [
        "# We will make some training and validation dataset to train the models and scale them down\n",
        "meanTemp_train = datasetCopy[\"LandAverageTemperature\"][\"1750-01\":\"1900-12\"] / 100\n",
        "meanTemp_valid = datasetCopy[\"LandAverageTemperature\"][\"1901-01\":\"2015-12\"] / 100"
      ]
    },
    {
      "cell_type": "code",
      "execution_count": 21,
      "metadata": {
        "id": "Awm-aXF7qP7k"
      },
      "outputs": [],
      "source": [
        "# We are now making a time series for the training and validation dataset.\n",
        "seq_length = 11\n",
        "train_ds = tf.keras.utils.timeseries_dataset_from_array(\n",
        "    meanTemp_train.to_numpy(),\n",
        "    targets=meanTemp_train[seq_length:],\n",
        "    sequence_length=seq_length,\n",
        "    batch_size=32,\n",
        "    shuffle=True,\n",
        "    seed=12\n",
        ")\n",
        "valid_ds = tf.keras.utils.timeseries_dataset_from_array(\n",
        "    meanTemp_valid.to_numpy(),\n",
        "    targets=meanTemp_valid[seq_length:],\n",
        "    sequence_length=seq_length,\n",
        "    batch_size=32\n",
        ")"
      ]
    },
    {
      "cell_type": "code",
      "source": [
        "# We will reset the model\n",
        "keras.backend.clear_session()\n",
        "np.random.seed(12)\n",
        "tf.random.set_seed(12)"
      ],
      "metadata": {
        "id": "vE8KPnzSD69n"
      },
      "execution_count": 22,
      "outputs": []
    },
    {
      "cell_type": "code",
      "execution_count": 23,
      "metadata": {
        "id": "jCnQ-yIxSd8p"
      },
      "outputs": [],
      "source": [
        "# Building the model with SImpleRNN\n",
        "model = tf.keras.Sequential([\n",
        "    tf.keras.layers.SimpleRNN(32, return_sequences=True, input_shape=[None, 1]),\n",
        "    tf.keras.layers.SimpleRNN(32),\n",
        "    tf.keras.layers.Dense(1)\n",
        "])"
      ]
    },
    {
      "cell_type": "code",
      "source": [
        "# Implement early stopping\n",
        "early_stopping_cb = tf.keras.callbacks.EarlyStopping(monitor=\"val_mae\", patience=50, restore_best_weights=True)\n",
        "# Set our optimizer\n",
        "opt = tf.keras.optimizers.SGD(learning_rate=0.02, momentum=0.9)\n",
        "# Compile the model\n",
        "model.compile(loss=tf.keras.losses.Huber(), optimizer=opt, metrics=[\"mae\"])\n",
        "# Train the model\n",
        "history = model.fit(train_ds, validation_data=valid_ds, epochs=100, callbacks=[early_stopping_cb])"
      ],
      "metadata": {
        "id": "Hdi6I-aqo7kD",
        "colab": {
          "base_uri": "https://localhost:8080/"
        },
        "outputId": "8cd40a27-2d58-49e5-a96a-ffc3d234cff3"
      },
      "execution_count": 24,
      "outputs": [
        {
          "output_type": "stream",
          "name": "stdout",
          "text": [
            "Epoch 1/100\n",
            "56/56 [==============================] - 22s 111ms/step - loss: 4.5470e-04 - mae: 0.0221 - val_loss: 3.9936e-05 - val_mae: 0.0074\n",
            "Epoch 2/100\n",
            "56/56 [==============================] - 4s 77ms/step - loss: 1.6947e-04 - mae: 0.0129 - val_loss: 3.7828e-05 - val_mae: 0.0071\n",
            "Epoch 3/100\n",
            "56/56 [==============================] - 4s 74ms/step - loss: 1.6702e-04 - mae: 0.0131 - val_loss: 2.1019e-05 - val_mae: 0.0053\n",
            "Epoch 4/100\n",
            "56/56 [==============================] - 4s 65ms/step - loss: 1.3880e-04 - mae: 0.0117 - val_loss: 9.1251e-05 - val_mae: 0.0122\n",
            "Epoch 5/100\n",
            "56/56 [==============================] - 3s 52ms/step - loss: 1.2837e-04 - mae: 0.0112 - val_loss: 2.5706e-05 - val_mae: 0.0058\n",
            "Epoch 6/100\n",
            "56/56 [==============================] - 2s 38ms/step - loss: 1.3403e-04 - mae: 0.0118 - val_loss: 3.7103e-05 - val_mae: 0.0072\n",
            "Epoch 7/100\n",
            "56/56 [==============================] - 3s 52ms/step - loss: 1.1418e-04 - mae: 0.0105 - val_loss: 2.2673e-05 - val_mae: 0.0055\n",
            "Epoch 8/100\n",
            "56/56 [==============================] - 3s 44ms/step - loss: 1.0818e-04 - mae: 0.0102 - val_loss: 3.6139e-05 - val_mae: 0.0071\n",
            "Epoch 9/100\n",
            "56/56 [==============================] - 3s 47ms/step - loss: 1.2179e-04 - mae: 0.0113 - val_loss: 4.5606e-05 - val_mae: 0.0082\n",
            "Epoch 10/100\n",
            "56/56 [==============================] - 2s 29ms/step - loss: 1.1143e-04 - mae: 0.0107 - val_loss: 1.9841e-05 - val_mae: 0.0051\n",
            "Epoch 11/100\n",
            "56/56 [==============================] - 2s 29ms/step - loss: 1.0364e-04 - mae: 0.0099 - val_loss: 1.5008e-05 - val_mae: 0.0044\n",
            "Epoch 12/100\n",
            "56/56 [==============================] - 2s 40ms/step - loss: 9.9221e-05 - mae: 0.0097 - val_loss: 3.2349e-05 - val_mae: 0.0067\n",
            "Epoch 13/100\n",
            "56/56 [==============================] - 2s 34ms/step - loss: 1.0200e-04 - mae: 0.0101 - val_loss: 2.9317e-05 - val_mae: 0.0063\n",
            "Epoch 14/100\n",
            "56/56 [==============================] - 2s 32ms/step - loss: 1.0264e-04 - mae: 0.0102 - val_loss: 6.6556e-05 - val_mae: 0.0103\n",
            "Epoch 15/100\n",
            "56/56 [==============================] - 2s 30ms/step - loss: 1.0818e-04 - mae: 0.0105 - val_loss: 1.5586e-05 - val_mae: 0.0045\n",
            "Epoch 16/100\n",
            "56/56 [==============================] - 2s 28ms/step - loss: 9.5145e-05 - mae: 0.0096 - val_loss: 5.3831e-05 - val_mae: 0.0091\n",
            "Epoch 17/100\n",
            "56/56 [==============================] - 3s 49ms/step - loss: 9.0479e-05 - mae: 0.0092 - val_loss: 2.8926e-05 - val_mae: 0.0063\n",
            "Epoch 18/100\n",
            "56/56 [==============================] - 2s 31ms/step - loss: 9.4403e-05 - mae: 0.0097 - val_loss: 1.4897e-05 - val_mae: 0.0044\n",
            "Epoch 19/100\n",
            "56/56 [==============================] - 2s 36ms/step - loss: 9.1288e-05 - mae: 0.0095 - val_loss: 3.7004e-05 - val_mae: 0.0073\n",
            "Epoch 20/100\n",
            "56/56 [==============================] - 2s 29ms/step - loss: 1.0449e-04 - mae: 0.0104 - val_loss: 4.4939e-05 - val_mae: 0.0082\n",
            "Epoch 21/100\n",
            "56/56 [==============================] - 2s 35ms/step - loss: 8.8058e-05 - mae: 0.0092 - val_loss: 3.0658e-05 - val_mae: 0.0065\n",
            "Epoch 22/100\n",
            "56/56 [==============================] - 3s 51ms/step - loss: 9.3457e-05 - mae: 0.0097 - val_loss: 2.3547e-05 - val_mae: 0.0056\n",
            "Epoch 23/100\n",
            "56/56 [==============================] - 2s 31ms/step - loss: 8.5227e-05 - mae: 0.0091 - val_loss: 1.3993e-05 - val_mae: 0.0042\n",
            "Epoch 24/100\n",
            "56/56 [==============================] - 2s 35ms/step - loss: 9.7025e-05 - mae: 0.0099 - val_loss: 4.2815e-05 - val_mae: 0.0080\n",
            "Epoch 25/100\n",
            "56/56 [==============================] - 2s 42ms/step - loss: 8.6162e-05 - mae: 0.0091 - val_loss: 3.8239e-05 - val_mae: 0.0074\n",
            "Epoch 26/100\n",
            "56/56 [==============================] - 2s 31ms/step - loss: 8.5412e-05 - mae: 0.0091 - val_loss: 1.8225e-05 - val_mae: 0.0049\n",
            "Epoch 27/100\n",
            "56/56 [==============================] - 3s 45ms/step - loss: 8.2869e-05 - mae: 0.0089 - val_loss: 4.6879e-05 - val_mae: 0.0084\n",
            "Epoch 28/100\n",
            "56/56 [==============================] - 3s 51ms/step - loss: 8.8619e-05 - mae: 0.0094 - val_loss: 6.2008e-05 - val_mae: 0.0100\n",
            "Epoch 29/100\n",
            "56/56 [==============================] - 2s 29ms/step - loss: 8.7081e-05 - mae: 0.0093 - val_loss: 1.4437e-05 - val_mae: 0.0043\n",
            "Epoch 30/100\n",
            "56/56 [==============================] - 2s 30ms/step - loss: 8.9926e-05 - mae: 0.0096 - val_loss: 1.4651e-05 - val_mae: 0.0043\n",
            "Epoch 31/100\n",
            "56/56 [==============================] - 2s 31ms/step - loss: 8.1758e-05 - mae: 0.0089 - val_loss: 1.3586e-05 - val_mae: 0.0041\n",
            "Epoch 32/100\n",
            "56/56 [==============================] - 2s 30ms/step - loss: 8.7227e-05 - mae: 0.0093 - val_loss: 4.7794e-05 - val_mae: 0.0085\n",
            "Epoch 33/100\n",
            "56/56 [==============================] - 4s 66ms/step - loss: 1.0662e-04 - mae: 0.0110 - val_loss: 4.9578e-05 - val_mae: 0.0087\n",
            "Epoch 34/100\n",
            "56/56 [==============================] - 2s 39ms/step - loss: 8.5526e-05 - mae: 0.0091 - val_loss: 1.1259e-04 - val_mae: 0.0141\n",
            "Epoch 35/100\n",
            "56/56 [==============================] - 3s 49ms/step - loss: 8.7895e-05 - mae: 0.0094 - val_loss: 2.7269e-05 - val_mae: 0.0061\n",
            "Epoch 36/100\n",
            "56/56 [==============================] - 3s 56ms/step - loss: 8.2430e-05 - mae: 0.0090 - val_loss: 2.7722e-05 - val_mae: 0.0061\n",
            "Epoch 37/100\n",
            "56/56 [==============================] - 3s 45ms/step - loss: 7.8891e-05 - mae: 0.0087 - val_loss: 3.2521e-05 - val_mae: 0.0068\n",
            "Epoch 38/100\n",
            "56/56 [==============================] - 3s 47ms/step - loss: 8.0010e-05 - mae: 0.0088 - val_loss: 2.6135e-05 - val_mae: 0.0060\n",
            "Epoch 39/100\n",
            "56/56 [==============================] - 4s 63ms/step - loss: 8.0250e-05 - mae: 0.0087 - val_loss: 1.3477e-05 - val_mae: 0.0041\n",
            "Epoch 40/100\n",
            "56/56 [==============================] - 4s 73ms/step - loss: 8.8117e-05 - mae: 0.0094 - val_loss: 1.4605e-05 - val_mae: 0.0043\n",
            "Epoch 41/100\n",
            "56/56 [==============================] - 3s 53ms/step - loss: 8.1167e-05 - mae: 0.0088 - val_loss: 1.8199e-05 - val_mae: 0.0049\n",
            "Epoch 42/100\n",
            "56/56 [==============================] - 2s 29ms/step - loss: 7.9821e-05 - mae: 0.0088 - val_loss: 7.0220e-05 - val_mae: 0.0108\n",
            "Epoch 43/100\n",
            "56/56 [==============================] - 2s 29ms/step - loss: 7.9387e-05 - mae: 0.0087 - val_loss: 1.3176e-05 - val_mae: 0.0041\n",
            "Epoch 44/100\n",
            "56/56 [==============================] - 2s 28ms/step - loss: 7.8755e-05 - mae: 0.0087 - val_loss: 7.5645e-05 - val_mae: 0.0113\n",
            "Epoch 45/100\n",
            "56/56 [==============================] - 2s 40ms/step - loss: 8.8921e-05 - mae: 0.0096 - val_loss: 1.3268e-05 - val_mae: 0.0041\n",
            "Epoch 46/100\n",
            "56/56 [==============================] - 2s 39ms/step - loss: 7.7617e-05 - mae: 0.0087 - val_loss: 1.2944e-05 - val_mae: 0.0040\n",
            "Epoch 47/100\n",
            "56/56 [==============================] - 2s 29ms/step - loss: 7.6828e-05 - mae: 0.0085 - val_loss: 1.8203e-05 - val_mae: 0.0049\n",
            "Epoch 48/100\n",
            "56/56 [==============================] - 2s 27ms/step - loss: 7.5355e-05 - mae: 0.0085 - val_loss: 2.0134e-05 - val_mae: 0.0051\n",
            "Epoch 49/100\n",
            "56/56 [==============================] - 2s 28ms/step - loss: 7.6647e-05 - mae: 0.0085 - val_loss: 1.7849e-05 - val_mae: 0.0048\n",
            "Epoch 50/100\n",
            "56/56 [==============================] - 2s 29ms/step - loss: 8.0342e-05 - mae: 0.0089 - val_loss: 3.4287e-05 - val_mae: 0.0070\n",
            "Epoch 51/100\n",
            "56/56 [==============================] - 2s 28ms/step - loss: 7.2581e-05 - mae: 0.0082 - val_loss: 5.1548e-05 - val_mae: 0.0090\n",
            "Epoch 52/100\n",
            "56/56 [==============================] - 3s 49ms/step - loss: 7.6522e-05 - mae: 0.0085 - val_loss: 1.7765e-05 - val_mae: 0.0048\n",
            "Epoch 53/100\n",
            "56/56 [==============================] - 2s 34ms/step - loss: 9.1185e-05 - mae: 0.0098 - val_loss: 8.3664e-05 - val_mae: 0.0119\n",
            "Epoch 54/100\n",
            "56/56 [==============================] - 2s 30ms/step - loss: 8.3017e-05 - mae: 0.0092 - val_loss: 2.2911e-05 - val_mae: 0.0055\n",
            "Epoch 55/100\n",
            "56/56 [==============================] - 2s 31ms/step - loss: 7.6868e-05 - mae: 0.0086 - val_loss: 7.2327e-05 - val_mae: 0.0110\n",
            "Epoch 56/100\n",
            "56/56 [==============================] - 2s 27ms/step - loss: 8.2062e-05 - mae: 0.0091 - val_loss: 2.3634e-05 - val_mae: 0.0056\n",
            "Epoch 57/100\n",
            "56/56 [==============================] - 2s 40ms/step - loss: 7.4542e-05 - mae: 0.0085 - val_loss: 1.6261e-05 - val_mae: 0.0046\n",
            "Epoch 58/100\n",
            "56/56 [==============================] - 2s 38ms/step - loss: 7.8602e-05 - mae: 0.0087 - val_loss: 3.8826e-05 - val_mae: 0.0076\n",
            "Epoch 59/100\n",
            "56/56 [==============================] - 2s 28ms/step - loss: 7.8167e-05 - mae: 0.0088 - val_loss: 1.3544e-05 - val_mae: 0.0041\n",
            "Epoch 60/100\n",
            "56/56 [==============================] - 2s 28ms/step - loss: 7.1639e-05 - mae: 0.0082 - val_loss: 1.8677e-05 - val_mae: 0.0049\n",
            "Epoch 61/100\n",
            "56/56 [==============================] - 2s 29ms/step - loss: 7.5169e-05 - mae: 0.0085 - val_loss: 1.3397e-05 - val_mae: 0.0041\n",
            "Epoch 62/100\n",
            "56/56 [==============================] - 2s 28ms/step - loss: 7.3265e-05 - mae: 0.0084 - val_loss: 2.8610e-05 - val_mae: 0.0064\n",
            "Epoch 63/100\n",
            "56/56 [==============================] - 2s 28ms/step - loss: 8.1257e-05 - mae: 0.0090 - val_loss: 9.9358e-05 - val_mae: 0.0132\n",
            "Epoch 64/100\n",
            "56/56 [==============================] - 3s 47ms/step - loss: 8.0747e-05 - mae: 0.0090 - val_loss: 3.1231e-05 - val_mae: 0.0067\n",
            "Epoch 65/100\n",
            "56/56 [==============================] - 2s 29ms/step - loss: 7.4239e-05 - mae: 0.0085 - val_loss: 3.9833e-05 - val_mae: 0.0077\n",
            "Epoch 66/100\n",
            "56/56 [==============================] - 2s 29ms/step - loss: 7.7339e-05 - mae: 0.0088 - val_loss: 1.5115e-05 - val_mae: 0.0044\n",
            "Epoch 67/100\n",
            "56/56 [==============================] - 2s 28ms/step - loss: 7.1590e-05 - mae: 0.0081 - val_loss: 1.2150e-05 - val_mae: 0.0039\n",
            "Epoch 68/100\n",
            "56/56 [==============================] - 2s 29ms/step - loss: 7.5526e-05 - mae: 0.0086 - val_loss: 1.2362e-05 - val_mae: 0.0039\n",
            "Epoch 69/100\n",
            "56/56 [==============================] - 2s 41ms/step - loss: 7.5213e-05 - mae: 0.0086 - val_loss: 2.2911e-05 - val_mae: 0.0056\n",
            "Epoch 70/100\n",
            "56/56 [==============================] - 2s 30ms/step - loss: 7.6124e-05 - mae: 0.0086 - val_loss: 1.1838e-04 - val_mae: 0.0146\n",
            "Epoch 71/100\n",
            "56/56 [==============================] - 2s 28ms/step - loss: 7.8146e-05 - mae: 0.0089 - val_loss: 2.3205e-05 - val_mae: 0.0056\n",
            "Epoch 72/100\n",
            "56/56 [==============================] - 2s 29ms/step - loss: 7.2634e-05 - mae: 0.0083 - val_loss: 1.4939e-05 - val_mae: 0.0044\n",
            "Epoch 73/100\n",
            "56/56 [==============================] - 2s 29ms/step - loss: 7.2660e-05 - mae: 0.0083 - val_loss: 6.0972e-05 - val_mae: 0.0100\n",
            "Epoch 74/100\n",
            "56/56 [==============================] - 2s 39ms/step - loss: 7.4540e-05 - mae: 0.0086 - val_loss: 2.8110e-05 - val_mae: 0.0063\n",
            "Epoch 75/100\n",
            "56/56 [==============================] - 4s 67ms/step - loss: 7.5598e-05 - mae: 0.0087 - val_loss: 6.8715e-05 - val_mae: 0.0107\n",
            "Epoch 76/100\n",
            "56/56 [==============================] - 2s 30ms/step - loss: 7.0377e-05 - mae: 0.0082 - val_loss: 3.6506e-05 - val_mae: 0.0074\n",
            "Epoch 77/100\n",
            "56/56 [==============================] - 2s 28ms/step - loss: 7.9605e-05 - mae: 0.0090 - val_loss: 1.8437e-05 - val_mae: 0.0049\n",
            "Epoch 78/100\n",
            "56/56 [==============================] - 2s 30ms/step - loss: 7.5006e-05 - mae: 0.0086 - val_loss: 1.6081e-05 - val_mae: 0.0045\n",
            "Epoch 79/100\n",
            "56/56 [==============================] - 2s 29ms/step - loss: 7.1653e-05 - mae: 0.0082 - val_loss: 1.4328e-05 - val_mae: 0.0043\n",
            "Epoch 80/100\n",
            "56/56 [==============================] - 2s 31ms/step - loss: 7.2842e-05 - mae: 0.0083 - val_loss: 1.4731e-05 - val_mae: 0.0043\n",
            "Epoch 81/100\n",
            "56/56 [==============================] - 2s 37ms/step - loss: 7.8957e-05 - mae: 0.0088 - val_loss: 2.3206e-05 - val_mae: 0.0056\n",
            "Epoch 82/100\n",
            "56/56 [==============================] - 2s 29ms/step - loss: 7.0971e-05 - mae: 0.0083 - val_loss: 2.3821e-05 - val_mae: 0.0057\n",
            "Epoch 83/100\n",
            "56/56 [==============================] - 2s 27ms/step - loss: 7.3307e-05 - mae: 0.0084 - val_loss: 2.5384e-05 - val_mae: 0.0059\n",
            "Epoch 84/100\n",
            "56/56 [==============================] - 2s 39ms/step - loss: 7.5067e-05 - mae: 0.0086 - val_loss: 1.4913e-05 - val_mae: 0.0044\n",
            "Epoch 85/100\n",
            "56/56 [==============================] - 2s 31ms/step - loss: 7.1770e-05 - mae: 0.0084 - val_loss: 4.9790e-05 - val_mae: 0.0089\n",
            "Epoch 86/100\n",
            "56/56 [==============================] - 2s 31ms/step - loss: 7.0796e-05 - mae: 0.0082 - val_loss: 1.1347e-05 - val_mae: 0.0038\n",
            "Epoch 87/100\n",
            "56/56 [==============================] - 3s 52ms/step - loss: 7.2213e-05 - mae: 0.0084 - val_loss: 4.4888e-05 - val_mae: 0.0084\n",
            "Epoch 88/100\n",
            "56/56 [==============================] - 2s 28ms/step - loss: 7.3132e-05 - mae: 0.0084 - val_loss: 5.0205e-05 - val_mae: 0.0090\n",
            "Epoch 89/100\n",
            "56/56 [==============================] - 2s 30ms/step - loss: 7.1174e-05 - mae: 0.0083 - val_loss: 1.2923e-05 - val_mae: 0.0040\n",
            "Epoch 90/100\n",
            "56/56 [==============================] - 2s 28ms/step - loss: 7.7450e-05 - mae: 0.0089 - val_loss: 1.5153e-05 - val_mae: 0.0044\n",
            "Epoch 91/100\n",
            "56/56 [==============================] - 2s 30ms/step - loss: 7.1757e-05 - mae: 0.0083 - val_loss: 3.7334e-05 - val_mae: 0.0075\n",
            "Epoch 92/100\n",
            "56/56 [==============================] - 2s 28ms/step - loss: 7.1767e-05 - mae: 0.0083 - val_loss: 2.0980e-05 - val_mae: 0.0053\n",
            "Epoch 93/100\n",
            "56/56 [==============================] - 3s 48ms/step - loss: 7.6026e-05 - mae: 0.0086 - val_loss: 6.3205e-05 - val_mae: 0.0103\n",
            "Epoch 94/100\n",
            "56/56 [==============================] - 2s 28ms/step - loss: 7.0117e-05 - mae: 0.0082 - val_loss: 1.1251e-05 - val_mae: 0.0037\n",
            "Epoch 95/100\n",
            "56/56 [==============================] - 2s 30ms/step - loss: 7.0240e-05 - mae: 0.0082 - val_loss: 1.2194e-05 - val_mae: 0.0039\n",
            "Epoch 96/100\n",
            "56/56 [==============================] - 2s 28ms/step - loss: 8.0854e-05 - mae: 0.0092 - val_loss: 6.1290e-05 - val_mae: 0.0101\n",
            "Epoch 97/100\n",
            "56/56 [==============================] - 2s 41ms/step - loss: 7.7539e-05 - mae: 0.0089 - val_loss: 1.0288e-04 - val_mae: 0.0135\n",
            "Epoch 98/100\n",
            "56/56 [==============================] - 2s 35ms/step - loss: 6.9557e-05 - mae: 0.0081 - val_loss: 3.8819e-05 - val_mae: 0.0077\n",
            "Epoch 99/100\n",
            "56/56 [==============================] - 2s 28ms/step - loss: 6.9402e-05 - mae: 0.0080 - val_loss: 1.1813e-05 - val_mae: 0.0038\n",
            "Epoch 100/100\n",
            "56/56 [==============================] - 2s 29ms/step - loss: 7.0550e-05 - mae: 0.0082 - val_loss: 2.6706e-05 - val_mae: 0.0061\n"
          ]
        }
      ]
    },
    {
      "cell_type": "code",
      "execution_count": 25,
      "metadata": {
        "colab": {
          "base_uri": "https://localhost:8080/"
        },
        "id": "FsvWWRItrEN0",
        "outputId": "00ac014c-2e76-4382-9e8a-5de9823cedcd"
      },
      "outputs": [
        {
          "output_type": "stream",
          "name": "stdout",
          "text": [
            "43/43 [==============================] - 0s 8ms/step - loss: 2.6706e-05 - mae: 0.0061\n"
          ]
        },
        {
          "output_type": "execute_result",
          "data": {
            "text/plain": [
              "0.6132808048278093"
            ]
          },
          "metadata": {},
          "execution_count": 25
        }
      ],
      "source": [
        "# Evaluate the models performance with the MAE\n",
        "valid_loss, valid_mae = model.evaluate(valid_ds)\n",
        "valid_mae * 100"
      ]
    },
    {
      "cell_type": "markdown",
      "source": [
        "#### As we can see, we got a low mean absolute error which is promising"
      ],
      "metadata": {
        "id": "AjgAVt-J9EXw"
      }
    },
    {
      "cell_type": "markdown",
      "metadata": {
        "id": "WV6FJUJAiQIF"
      },
      "source": [
        "#### Even though we got a decently low MAE from the first dataset, I want to see what will happen with our annuatized dataset."
      ]
    },
    {
      "cell_type": "code",
      "source": [
        "# We will reset the model\n",
        "keras.backend.clear_session()\n",
        "np.random.seed(12)\n",
        "tf.random.set_seed(12)"
      ],
      "metadata": {
        "id": "1LvNiiLVp5bn"
      },
      "execution_count": 26,
      "outputs": []
    },
    {
      "cell_type": "code",
      "execution_count": 27,
      "metadata": {
        "id": "sIdCShU-hG9e"
      },
      "outputs": [],
      "source": [
        "## Make new datasets for this new model\n",
        "meanTemp_train2 = annual_datset[\"LandAverageTemperature\"][\"1850-12\":\"1950-12\"] / 100\n",
        "meanTemp_valid2 = annual_datset[\"LandAverageTemperature\"][\"1951-12\":\"2010-12\"] / 100\n",
        "meanTemp_test2 = annual_datset[\"LandAverageTemperature\"][\"1970-12\":\"2015-12\"] / 100"
      ]
    },
    {
      "cell_type": "code",
      "execution_count": 28,
      "metadata": {
        "id": "qEPkUKnohG4U"
      },
      "outputs": [],
      "source": [
        "# Create time series for the new model\n",
        "seq_length = 11\n",
        "train_ds2 = tf.keras.utils.timeseries_dataset_from_array(\n",
        "    meanTemp_train2.to_numpy(),\n",
        "    targets=meanTemp_train2[seq_length:],\n",
        "    sequence_length=seq_length,\n",
        "    batch_size=32,\n",
        "    shuffle=True,\n",
        "    seed=12\n",
        ")\n",
        "valid_ds2 = tf.keras.utils.timeseries_dataset_from_array(\n",
        "    meanTemp_valid2.to_numpy(),\n",
        "    targets=meanTemp_valid2[seq_length:],\n",
        "    sequence_length=seq_length,\n",
        "    batch_size=32\n",
        ")\n"
      ]
    },
    {
      "cell_type": "code",
      "execution_count": 29,
      "metadata": {
        "id": "6Ak4ZWjPhGyS"
      },
      "outputs": [],
      "source": [
        "# Building the deep simpleRNN model\n",
        "model_2 = tf.keras.Sequential([\n",
        "    tf.keras.layers.SimpleRNN(32, return_sequences=True, input_shape=[None, 1]),\n",
        "    tf.keras.layers.SimpleRNN(32, return_sequences=True),\n",
        "    tf.keras.layers.SimpleRNN(32),\n",
        "    tf.keras.layers.Dense(1)\n",
        "])"
      ]
    },
    {
      "cell_type": "code",
      "source": [
        "# Implement early stopping\n",
        "early_stopping_cb = tf.keras.callbacks.EarlyStopping(monitor=\"val_mae\", patience=30, restore_best_weights=True)\n",
        "# Set our optimizer\n",
        "opt = tf.keras.optimizers.Adam(learning_rate=0.013)\n",
        "# Compile the model\n",
        "model_2.compile(loss=tf.keras.losses.Huber(), optimizer=opt, metrics=[\"mae\"])\n",
        "# Train the model\n",
        "history = model_2.fit(train_ds2, validation_data=valid_ds2, epochs=500, callbacks=[early_stopping_cb])"
      ],
      "metadata": {
        "colab": {
          "base_uri": "https://localhost:8080/"
        },
        "id": "5zf_GPn-pEH9",
        "outputId": "061da79f-1893-4f6d-99b6-f66d5344f226"
      },
      "execution_count": 30,
      "outputs": [
        {
          "output_type": "stream",
          "name": "stdout",
          "text": [
            "Epoch 1/500\n",
            "3/3 [==============================] - 3s 249ms/step - loss: 0.9088 - mae: 1.2514 - val_loss: 0.4119 - val_mae: 0.9076\n",
            "Epoch 2/500\n",
            "3/3 [==============================] - 0s 70ms/step - loss: 0.2830 - mae: 0.7173 - val_loss: 0.0016 - val_mae: 0.0557\n",
            "Epoch 3/500\n",
            "3/3 [==============================] - 0s 67ms/step - loss: 0.0449 - mae: 0.2477 - val_loss: 0.0048 - val_mae: 0.0980\n",
            "Epoch 4/500\n",
            "3/3 [==============================] - 0s 136ms/step - loss: 0.0054 - mae: 0.0961 - val_loss: 0.0147 - val_mae: 0.1715\n",
            "Epoch 5/500\n",
            "3/3 [==============================] - 0s 116ms/step - loss: 0.0092 - mae: 0.1259 - val_loss: 8.2740e-04 - val_mae: 0.0405\n",
            "Epoch 6/500\n",
            "3/3 [==============================] - 0s 119ms/step - loss: 0.0035 - mae: 0.0766 - val_loss: 0.0046 - val_mae: 0.0954\n",
            "Epoch 7/500\n",
            "3/3 [==============================] - 0s 91ms/step - loss: 0.0017 - mae: 0.0509 - val_loss: 0.0020 - val_mae: 0.0635\n",
            "Epoch 8/500\n",
            "3/3 [==============================] - 0s 72ms/step - loss: 0.0030 - mae: 0.0771 - val_loss: 2.3941e-04 - val_mae: 0.0215\n",
            "Epoch 9/500\n",
            "3/3 [==============================] - 0s 69ms/step - loss: 6.9912e-04 - mae: 0.0337 - val_loss: 0.0030 - val_mae: 0.0777\n",
            "Epoch 10/500\n",
            "3/3 [==============================] - 0s 74ms/step - loss: 0.0016 - mae: 0.0533 - val_loss: 1.9274e-05 - val_mae: 0.0053\n",
            "Epoch 11/500\n",
            "3/3 [==============================] - 0s 70ms/step - loss: 7.5275e-04 - mae: 0.0347 - val_loss: 6.7975e-04 - val_mae: 0.0366\n",
            "Epoch 12/500\n",
            "3/3 [==============================] - 0s 66ms/step - loss: 4.2840e-04 - mae: 0.0257 - val_loss: 8.6180e-04 - val_mae: 0.0413\n",
            "Epoch 13/500\n",
            "3/3 [==============================] - 0s 61ms/step - loss: 6.8730e-04 - mae: 0.0367 - val_loss: 1.9048e-04 - val_mae: 0.0191\n",
            "Epoch 14/500\n",
            "3/3 [==============================] - 0s 75ms/step - loss: 1.7636e-04 - mae: 0.0170 - val_loss: 3.3605e-04 - val_mae: 0.0256\n",
            "Epoch 15/500\n",
            "3/3 [==============================] - 0s 65ms/step - loss: 2.9459e-04 - mae: 0.0216 - val_loss: 1.9528e-04 - val_mae: 0.0194\n",
            "Epoch 16/500\n",
            "3/3 [==============================] - 0s 74ms/step - loss: 2.1772e-04 - mae: 0.0200 - val_loss: 2.5575e-04 - val_mae: 0.0223\n",
            "Epoch 17/500\n",
            "3/3 [==============================] - 0s 65ms/step - loss: 7.2290e-05 - mae: 0.0103 - val_loss: 9.0806e-05 - val_mae: 0.0129\n",
            "Epoch 18/500\n",
            "3/3 [==============================] - 0s 78ms/step - loss: 1.3898e-04 - mae: 0.0157 - val_loss: 6.1251e-05 - val_mae: 0.0103\n",
            "Epoch 19/500\n",
            "3/3 [==============================] - 0s 63ms/step - loss: 7.1164e-05 - mae: 0.0105 - val_loss: 1.7731e-04 - val_mae: 0.0184\n",
            "Epoch 20/500\n",
            "3/3 [==============================] - 0s 68ms/step - loss: 3.1713e-05 - mae: 0.0066 - val_loss: 2.0457e-05 - val_mae: 0.0055\n",
            "Epoch 21/500\n",
            "3/3 [==============================] - 0s 63ms/step - loss: 5.9966e-05 - mae: 0.0102 - val_loss: 3.9680e-05 - val_mae: 0.0080\n",
            "Epoch 22/500\n",
            "3/3 [==============================] - 0s 65ms/step - loss: 2.6955e-05 - mae: 0.0064 - val_loss: 1.0662e-04 - val_mae: 0.0141\n",
            "Epoch 23/500\n",
            "3/3 [==============================] - 0s 81ms/step - loss: 1.4656e-05 - mae: 0.0045 - val_loss: 7.8979e-06 - val_mae: 0.0035\n",
            "Epoch 24/500\n",
            "3/3 [==============================] - 0s 70ms/step - loss: 2.4250e-05 - mae: 0.0062 - val_loss: 4.0029e-05 - val_mae: 0.0080\n",
            "Epoch 25/500\n",
            "3/3 [==============================] - 0s 71ms/step - loss: 1.4250e-05 - mae: 0.0045 - val_loss: 6.3737e-05 - val_mae: 0.0106\n",
            "Epoch 26/500\n",
            "3/3 [==============================] - 0s 69ms/step - loss: 7.6587e-06 - mae: 0.0032 - val_loss: 9.9392e-06 - val_mae: 0.0035\n",
            "Epoch 27/500\n",
            "3/3 [==============================] - 0s 62ms/step - loss: 1.0461e-05 - mae: 0.0037 - val_loss: 4.4597e-05 - val_mae: 0.0086\n",
            "Epoch 28/500\n",
            "3/3 [==============================] - 0s 69ms/step - loss: 9.2572e-06 - mae: 0.0035 - val_loss: 4.0310e-05 - val_mae: 0.0081\n",
            "Epoch 29/500\n",
            "3/3 [==============================] - 0s 61ms/step - loss: 7.5264e-06 - mae: 0.0032 - val_loss: 1.4952e-05 - val_mae: 0.0043\n",
            "Epoch 30/500\n",
            "3/3 [==============================] - 0s 60ms/step - loss: 6.6210e-06 - mae: 0.0030 - val_loss: 5.2688e-05 - val_mae: 0.0095\n",
            "Epoch 31/500\n",
            "3/3 [==============================] - 0s 63ms/step - loss: 6.6476e-06 - mae: 0.0029 - val_loss: 2.3906e-05 - val_mae: 0.0058\n",
            "Epoch 32/500\n",
            "3/3 [==============================] - 0s 66ms/step - loss: 5.5040e-06 - mae: 0.0027 - val_loss: 2.7205e-05 - val_mae: 0.0063\n",
            "Epoch 33/500\n",
            "3/3 [==============================] - 0s 63ms/step - loss: 5.4092e-06 - mae: 0.0027 - val_loss: 4.0491e-05 - val_mae: 0.0081\n",
            "Epoch 34/500\n",
            "3/3 [==============================] - 0s 60ms/step - loss: 4.8084e-06 - mae: 0.0026 - val_loss: 2.1328e-05 - val_mae: 0.0053\n",
            "Epoch 35/500\n",
            "3/3 [==============================] - 0s 65ms/step - loss: 4.6643e-06 - mae: 0.0026 - val_loss: 3.8214e-05 - val_mae: 0.0078\n",
            "Epoch 36/500\n",
            "3/3 [==============================] - 0s 60ms/step - loss: 4.8748e-06 - mae: 0.0025 - val_loss: 3.1363e-05 - val_mae: 0.0069\n",
            "Epoch 37/500\n",
            "3/3 [==============================] - 0s 86ms/step - loss: 4.4256e-06 - mae: 0.0025 - val_loss: 2.6850e-05 - val_mae: 0.0062\n",
            "Epoch 38/500\n",
            "3/3 [==============================] - 0s 73ms/step - loss: 4.5345e-06 - mae: 0.0025 - val_loss: 3.6082e-05 - val_mae: 0.0075\n",
            "Epoch 39/500\n",
            "3/3 [==============================] - 0s 73ms/step - loss: 4.5324e-06 - mae: 0.0025 - val_loss: 2.6624e-05 - val_mae: 0.0062\n",
            "Epoch 40/500\n",
            "3/3 [==============================] - 0s 59ms/step - loss: 4.6274e-06 - mae: 0.0026 - val_loss: 3.3818e-05 - val_mae: 0.0072\n",
            "Epoch 41/500\n",
            "3/3 [==============================] - 0s 62ms/step - loss: 4.9673e-06 - mae: 0.0027 - val_loss: 2.8534e-05 - val_mae: 0.0065\n",
            "Epoch 42/500\n",
            "3/3 [==============================] - 0s 65ms/step - loss: 4.3703e-06 - mae: 0.0024 - val_loss: 3.7413e-05 - val_mae: 0.0077\n",
            "Epoch 43/500\n",
            "3/3 [==============================] - 0s 67ms/step - loss: 4.4307e-06 - mae: 0.0025 - val_loss: 2.5623e-05 - val_mae: 0.0060\n",
            "Epoch 44/500\n",
            "3/3 [==============================] - 0s 59ms/step - loss: 4.3935e-06 - mae: 0.0025 - val_loss: 3.4219e-05 - val_mae: 0.0073\n",
            "Epoch 45/500\n",
            "3/3 [==============================] - 0s 73ms/step - loss: 4.2966e-06 - mae: 0.0024 - val_loss: 2.9519e-05 - val_mae: 0.0066\n",
            "Epoch 46/500\n",
            "3/3 [==============================] - 0s 61ms/step - loss: 4.2215e-06 - mae: 0.0024 - val_loss: 3.0007e-05 - val_mae: 0.0067\n",
            "Epoch 47/500\n",
            "3/3 [==============================] - 0s 60ms/step - loss: 4.3166e-06 - mae: 0.0025 - val_loss: 3.3285e-05 - val_mae: 0.0071\n",
            "Epoch 48/500\n",
            "3/3 [==============================] - 0s 69ms/step - loss: 4.3104e-06 - mae: 0.0024 - val_loss: 3.3618e-05 - val_mae: 0.0072\n",
            "Epoch 49/500\n",
            "3/3 [==============================] - 0s 64ms/step - loss: 4.2444e-06 - mae: 0.0024 - val_loss: 2.7835e-05 - val_mae: 0.0064\n",
            "Epoch 50/500\n",
            "3/3 [==============================] - 0s 127ms/step - loss: 4.2657e-06 - mae: 0.0025 - val_loss: 3.3128e-05 - val_mae: 0.0071\n",
            "Epoch 51/500\n",
            "3/3 [==============================] - 0s 124ms/step - loss: 4.4814e-06 - mae: 0.0025 - val_loss: 3.1357e-05 - val_mae: 0.0069\n",
            "Epoch 52/500\n",
            "3/3 [==============================] - 0s 154ms/step - loss: 4.4709e-06 - mae: 0.0025 - val_loss: 2.7048e-05 - val_mae: 0.0062\n",
            "Epoch 53/500\n",
            "3/3 [==============================] - 0s 85ms/step - loss: 4.3659e-06 - mae: 0.0025 - val_loss: 3.0899e-05 - val_mae: 0.0068\n"
          ]
        }
      ]
    },
    {
      "cell_type": "code",
      "execution_count": 31,
      "metadata": {
        "id": "o3a5yPzthGrl",
        "colab": {
          "base_uri": "https://localhost:8080/"
        },
        "outputId": "bb59b643-3c1a-44f5-917b-81c4309879ba"
      },
      "outputs": [
        {
          "output_type": "stream",
          "name": "stdout",
          "text": [
            "2/2 [==============================] - 0s 11ms/step - loss: 7.8979e-06 - mae: 0.0035\n"
          ]
        },
        {
          "output_type": "execute_result",
          "data": {
            "text/plain": [
              "0.3451334545388818"
            ]
          },
          "metadata": {},
          "execution_count": 31
        }
      ],
      "source": [
        "# Evaluate the model performance\n",
        "valid_loss, valid_mae = model_2.evaluate(valid_ds2)\n",
        "valid_mae * 100"
      ]
    },
    {
      "cell_type": "markdown",
      "source": [
        "#### The annuatized model definetely performed better than the model with monthly data"
      ],
      "metadata": {
        "id": "RkqFZp2trQMJ"
      }
    },
    {
      "cell_type": "code",
      "source": [
        "# Us the validation time series to make predictions\n",
        "predicted_values = model_2.predict(valid_ds2)\n",
        "print(\"Predicted values:\", predicted_values * 100)"
      ],
      "metadata": {
        "colab": {
          "base_uri": "https://localhost:8080/"
        },
        "id": "R8ZuwEhN1r11",
        "outputId": "ee2167a9-b5d6-4c6b-9892-81dbc4af8c81"
      },
      "execution_count": 32,
      "outputs": [
        {
          "output_type": "stream",
          "name": "stdout",
          "text": [
            "2/2 [==============================] - 0s 11ms/step\n",
            "Predicted values: [[9.035613 ]\n",
            " [9.096521 ]\n",
            " [9.107757 ]\n",
            " [9.062789 ]\n",
            " [9.018818 ]\n",
            " [9.033707 ]\n",
            " [9.090066 ]\n",
            " [9.076752 ]\n",
            " [9.033621 ]\n",
            " [9.047312 ]\n",
            " [9.094935 ]\n",
            " [9.108869 ]\n",
            " [9.071941 ]\n",
            " [9.0413885]\n",
            " [9.053178 ]\n",
            " [9.068583 ]\n",
            " [9.06312  ]\n",
            " [9.066844 ]\n",
            " [9.060645 ]\n",
            " [9.045322 ]\n",
            " [9.025984 ]\n",
            " [9.071389 ]\n",
            " [9.070717 ]\n",
            " [9.050933 ]\n",
            " [9.050095 ]\n",
            " [9.037521 ]\n",
            " [9.041256 ]\n",
            " [9.015283 ]\n",
            " [9.029015 ]\n",
            " [9.065541 ]\n",
            " [9.070783 ]\n",
            " [9.070937 ]\n",
            " [9.07245  ]\n",
            " [9.016551 ]\n",
            " [9.018429 ]\n",
            " [9.028484 ]\n",
            " [9.023989 ]\n",
            " [9.027633 ]\n",
            " [9.061103 ]\n",
            " [9.0950985]\n",
            " [9.039556 ]\n",
            " [9.002156 ]\n",
            " [9.016519 ]\n",
            " [9.027842 ]\n",
            " [9.0099125]\n",
            " [9.009004 ]\n",
            " [9.052828 ]\n",
            " [9.046785 ]\n",
            " [8.996073 ]]\n"
          ]
        }
      ]
    },
    {
      "cell_type": "markdown",
      "source": [
        "#### This project has been the most challanging for me so far. Ultimately I feel that I have learned alot about working with models and trying to adjust parameters to tweak what the model is doing. I feel though that I still have a lot to learn. As we have learned throughout class, there are many nuances that can change the output of our models and it can take a lot of time to manipulate things to get what we are looking for. In the end I feel that I researched a significant amount and got my models pretty accurate. I also learned many things that will help me in future projects."
      ],
      "metadata": {
        "id": "vFm-lpPCpB7B"
      }
    }
  ],
  "metadata": {
    "accelerator": "GPU",
    "colab": {
      "provenance": []
    },
    "kernelspec": {
      "display_name": "Python 3",
      "name": "python3"
    },
    "language_info": {
      "name": "python"
    }
  },
  "nbformat": 4,
  "nbformat_minor": 0
}